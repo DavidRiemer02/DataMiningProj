{
  "nbformat": 4,
  "nbformat_minor": 0,
  "metadata": {
    "colab": {
      "provenance": [],
      "toc_visible": true
    },
    "kernelspec": {
      "name": "python3",
      "display_name": "Python 3"
    },
    "language_info": {
      "name": "python"
    }
  },
  "cells": [
    {
      "cell_type": "markdown",
      "source": [
        "# Setup"
      ],
      "metadata": {
        "id": "M712TP5gkNJ2"
      }
    },
    {
      "cell_type": "code",
      "source": [
        "!pip install pyspark\n",
        "!pip install -U -q PyDrive\n",
        "!apt install openjdk-8-jdk-headless -qq\n",
        "import os\n",
        "os.environ[\"JAVA_HOME\"] = \"/usr/lib/jvm/java-8-openjdk-amd64\""
      ],
      "metadata": {
        "colab": {
          "base_uri": "https://localhost:8080/"
        },
        "id": "NoDVlZaRkITK",
        "outputId": "8bab4a0c-8433-4b13-cd0f-e32c6f50b7ec"
      },
      "execution_count": null,
      "outputs": [
        {
          "output_type": "stream",
          "name": "stdout",
          "text": [
            "Requirement already satisfied: pyspark in /usr/local/lib/python3.10/dist-packages (3.5.0)\n",
            "Requirement already satisfied: py4j==0.10.9.7 in /usr/local/lib/python3.10/dist-packages (from pyspark) (0.10.9.7)\n",
            "openjdk-8-jdk-headless is already the newest version (8u382-ga-1~22.04.1).\n",
            "0 upgraded, 0 newly installed, 0 to remove and 6 not upgraded.\n"
          ]
        }
      ]
    },
    {
      "cell_type": "code",
      "execution_count": null,
      "metadata": {
        "id": "jD3p4H0l8Dvz"
      },
      "outputs": [],
      "source": [
        "import pandas as pd\n",
        "import numpy as np\n",
        "import matplotlib.pyplot as plt\n",
        "%matplotlib inline\n",
        "\n",
        "import pyspark\n",
        "from pyspark.sql import *\n",
        "from pyspark.sql.functions import *\n",
        "from pyspark import SparkContext, SparkConf\n",
        "\n",
        "from pyspark.sql import SQLContext\n",
        "from pyspark import SparkContext"
      ]
    },
    {
      "cell_type": "markdown",
      "source": [
        "Initialize spark context"
      ],
      "metadata": {
        "id": "8FHbc70jnDhb"
      }
    },
    {
      "cell_type": "code",
      "source": [
        "conf = SparkConf().set(\"spark.ui.port\", \"4050\")\n",
        "\n",
        "# create the context\n",
        "sc = pyspark.SparkContext(conf=conf)\n",
        "spark = SparkSession.builder.getOrCreate()"
      ],
      "metadata": {
        "id": "1V08k_Bw8OIZ",
        "colab": {
          "base_uri": "https://localhost:8080/",
          "height": 270
        },
        "outputId": "f280bbc3-fe8c-49ea-8c2f-8e45ca417855"
      },
      "execution_count": null,
      "outputs": [
        {
          "output_type": "error",
          "ename": "ValueError",
          "evalue": "ignored",
          "traceback": [
            "\u001b[0;31m---------------------------------------------------------------------------\u001b[0m",
            "\u001b[0;31mValueError\u001b[0m                                Traceback (most recent call last)",
            "\u001b[0;32m<ipython-input-45-0837f27ebd55>\u001b[0m in \u001b[0;36m<cell line: 4>\u001b[0;34m()\u001b[0m\n\u001b[1;32m      2\u001b[0m \u001b[0;34m\u001b[0m\u001b[0m\n\u001b[1;32m      3\u001b[0m \u001b[0;31m# create the context\u001b[0m\u001b[0;34m\u001b[0m\u001b[0;34m\u001b[0m\u001b[0m\n\u001b[0;32m----> 4\u001b[0;31m \u001b[0msc\u001b[0m \u001b[0;34m=\u001b[0m \u001b[0mpyspark\u001b[0m\u001b[0;34m.\u001b[0m\u001b[0mSparkContext\u001b[0m\u001b[0;34m(\u001b[0m\u001b[0mconf\u001b[0m\u001b[0;34m=\u001b[0m\u001b[0mconf\u001b[0m\u001b[0;34m)\u001b[0m\u001b[0;34m\u001b[0m\u001b[0;34m\u001b[0m\u001b[0m\n\u001b[0m\u001b[1;32m      5\u001b[0m \u001b[0mspark\u001b[0m \u001b[0;34m=\u001b[0m \u001b[0mSparkSession\u001b[0m\u001b[0;34m.\u001b[0m\u001b[0mbuilder\u001b[0m\u001b[0;34m.\u001b[0m\u001b[0mgetOrCreate\u001b[0m\u001b[0;34m(\u001b[0m\u001b[0;34m)\u001b[0m\u001b[0;34m\u001b[0m\u001b[0;34m\u001b[0m\u001b[0m\n",
            "\u001b[0;32m/usr/local/lib/python3.10/dist-packages/pyspark/context.py\u001b[0m in \u001b[0;36m__init__\u001b[0;34m(self, master, appName, sparkHome, pyFiles, environment, batchSize, serializer, conf, gateway, jsc, profiler_cls, udf_profiler_cls, memory_profiler_cls)\u001b[0m\n\u001b[1;32m    199\u001b[0m             )\n\u001b[1;32m    200\u001b[0m \u001b[0;34m\u001b[0m\u001b[0m\n\u001b[0;32m--> 201\u001b[0;31m         \u001b[0mSparkContext\u001b[0m\u001b[0;34m.\u001b[0m\u001b[0m_ensure_initialized\u001b[0m\u001b[0;34m(\u001b[0m\u001b[0mself\u001b[0m\u001b[0;34m,\u001b[0m \u001b[0mgateway\u001b[0m\u001b[0;34m=\u001b[0m\u001b[0mgateway\u001b[0m\u001b[0;34m,\u001b[0m \u001b[0mconf\u001b[0m\u001b[0;34m=\u001b[0m\u001b[0mconf\u001b[0m\u001b[0;34m)\u001b[0m\u001b[0;34m\u001b[0m\u001b[0;34m\u001b[0m\u001b[0m\n\u001b[0m\u001b[1;32m    202\u001b[0m         \u001b[0;32mtry\u001b[0m\u001b[0;34m:\u001b[0m\u001b[0;34m\u001b[0m\u001b[0;34m\u001b[0m\u001b[0m\n\u001b[1;32m    203\u001b[0m             self._do_init(\n",
            "\u001b[0;32m/usr/local/lib/python3.10/dist-packages/pyspark/context.py\u001b[0m in \u001b[0;36m_ensure_initialized\u001b[0;34m(cls, instance, gateway, conf)\u001b[0m\n\u001b[1;32m    447\u001b[0m \u001b[0;34m\u001b[0m\u001b[0m\n\u001b[1;32m    448\u001b[0m                     \u001b[0;31m# Raise error if there is already a running Spark context\u001b[0m\u001b[0;34m\u001b[0m\u001b[0;34m\u001b[0m\u001b[0m\n\u001b[0;32m--> 449\u001b[0;31m                     raise ValueError(\n\u001b[0m\u001b[1;32m    450\u001b[0m                         \u001b[0;34m\"Cannot run multiple SparkContexts at once; \"\u001b[0m\u001b[0;34m\u001b[0m\u001b[0;34m\u001b[0m\u001b[0m\n\u001b[1;32m    451\u001b[0m                         \u001b[0;34m\"existing SparkContext(app=%s, master=%s)\"\u001b[0m\u001b[0;34m\u001b[0m\u001b[0;34m\u001b[0m\u001b[0m\n",
            "\u001b[0;31mValueError\u001b[0m: Cannot run multiple SparkContexts at once; existing SparkContext(app=pyspark-shell, master=local[*]) created by __init__ at <ipython-input-4-0837f27ebd55>:4 "
          ]
        }
      ]
    },
    {
      "cell_type": "code",
      "source": [
        "sqlContext = SQLContext(spark)"
      ],
      "metadata": {
        "colab": {
          "base_uri": "https://localhost:8080/"
        },
        "id": "GcNpy2slOA5f",
        "outputId": "69c3a778-0093-4aaa-9fdf-e08a25c4254d"
      },
      "execution_count": null,
      "outputs": [
        {
          "output_type": "stream",
          "name": "stderr",
          "text": [
            "/usr/local/lib/python3.10/dist-packages/pyspark/sql/context.py:113: FutureWarning: Deprecated in 3.0.0. Use SparkSession.builder.getOrCreate() instead.\n",
            "  warnings.warn(\n"
          ]
        }
      ]
    },
    {
      "cell_type": "markdown",
      "source": [
        "Read in the data"
      ],
      "metadata": {
        "id": "y6WlIkb_nGzz"
      }
    },
    {
      "cell_type": "code",
      "source": [
        "train = spark.read.csv('/content/train.csv', header=True, inferSchema=True)\n",
        "test = spark.read.csv('/content/test.csv', header=True, inferSchema=True)"
      ],
      "metadata": {
        "id": "QAsp7OHE8R54"
      },
      "execution_count": null,
      "outputs": []
    },
    {
      "cell_type": "markdown",
      "source": [
        "# Prepare the Data"
      ],
      "metadata": {
        "id": "Acpx4KgBoMGC"
      }
    },
    {
      "cell_type": "code",
      "source": [
        "train.printSchema()\n",
        "train.show(10)"
      ],
      "metadata": {
        "colab": {
          "base_uri": "https://localhost:8080/"
        },
        "id": "Pvw8KOzenkBb",
        "outputId": "24137b01-1c9a-4b21-d93f-4b2c246a6b9f"
      },
      "execution_count": null,
      "outputs": [
        {
          "output_type": "stream",
          "name": "stdout",
          "text": [
            "root\n",
            " |-- ItemID: integer (nullable = true)\n",
            " |-- Sentiment: integer (nullable = true)\n",
            " |-- SentimentText: string (nullable = true)\n",
            "\n",
            "+------+---------+--------------------+\n",
            "|ItemID|Sentiment|       SentimentText|\n",
            "+------+---------+--------------------+\n",
            "|     1|        0|                 ...|\n",
            "|     2|        0|                 ...|\n",
            "|     3|        1|              omg...|\n",
            "|     4|        0|          .. Omga...|\n",
            "|     5|        0|         i think ...|\n",
            "|     6|        0|         or i jus...|\n",
            "|     7|        1|       Juuuuuuuuu...|\n",
            "|     8|        0|       Sunny Agai...|\n",
            "|     9|        1|      handed in m...|\n",
            "|    10|        1|      hmmmm.... i...|\n",
            "+------+---------+--------------------+\n",
            "only showing top 10 rows\n",
            "\n"
          ]
        }
      ]
    },
    {
      "cell_type": "code",
      "source": [
        "test.printSchema()"
      ],
      "metadata": {
        "colab": {
          "base_uri": "https://localhost:8080/"
        },
        "id": "DuG5EpG9RHeM",
        "outputId": "eb77ffed-07f8-4982-db18-18034bf5ca43"
      },
      "execution_count": null,
      "outputs": [
        {
          "output_type": "stream",
          "name": "stdout",
          "text": [
            "root\n",
            " |-- ItemID: integer (nullable = true)\n",
            " |-- SentimentText: string (nullable = true)\n",
            "\n"
          ]
        }
      ]
    },
    {
      "cell_type": "code",
      "source": [
        "from pyspark.sql.functions import col\n",
        "\n",
        "train.groupBy(\"Sentiment\").count().orderBy(col(\"count\").desc()).show()"
      ],
      "metadata": {
        "id": "Fs2sfqRf8Vwp",
        "colab": {
          "base_uri": "https://localhost:8080/"
        },
        "outputId": "e56d16bf-e651-4677-c321-ca822a561758"
      },
      "execution_count": null,
      "outputs": [
        {
          "output_type": "stream",
          "name": "stdout",
          "text": [
            "+---------+-----+\n",
            "|Sentiment|count|\n",
            "+---------+-----+\n",
            "|        1|56462|\n",
            "|        0|43538|\n",
            "+---------+-----+\n",
            "\n"
          ]
        }
      ]
    },
    {
      "cell_type": "code",
      "source": [
        "from pyspark.ml.feature import RegexTokenizer, StopWordsRemover, HashingTF, IDF\n",
        "from pyspark.ml.classification import LogisticRegression\n",
        "# regular expression tokenizer\n",
        "regexTokenizer = RegexTokenizer(inputCol=\"SentimentText\", outputCol=\"words\", pattern=\"\\\\W\")\n",
        "\n",
        "# stop words\n",
        "stopwordsRemover = StopWordsRemover(inputCol=\"words\", outputCol=\"filtered\").setStopWords([\"http\",\"https\",\"amp\",\"rt\",\"t\",\"c\",\"the\"])\n",
        "\n",
        "#converts words into numerical values\n",
        "hashingTF = HashingTF(inputCol=\"filtered\", outputCol=\"features\")\n",
        "hashingTF.setNumFeatures(1000)\n",
        "idf= IDF(inputCol=\"features\", outputCol=\"rawfeatures\", minDocFreq=5)"
      ],
      "metadata": {
        "id": "IH8RXN9cOxX_"
      },
      "execution_count": null,
      "outputs": []
    },
    {
      "cell_type": "code",
      "source": [
        "from pyspark.ml import Pipeline\n",
        "from pyspark.ml.feature import OneHotEncoder, StringIndexer, VectorAssembler\n",
        "label_stringIdx = StringIndexer(inputCol = \"Sentiment\", outputCol = \"label\")\n",
        "\n",
        "pipeline = Pipeline(stages=[regexTokenizer, stopwordsRemover, hashingTF, label_stringIdx])\n",
        "\n",
        "# Fit the pipeline to training documents.\n",
        "pipelineFit = pipeline.fit(train)\n",
        "dataset = pipelineFit.transform(train)\n",
        "dataset.show(5)"
      ],
      "metadata": {
        "colab": {
          "base_uri": "https://localhost:8080/"
        },
        "id": "zpiQbCryQATV",
        "outputId": "0cd071b2-f6d8-48b2-935f-e567f3cc59d1"
      },
      "execution_count": null,
      "outputs": [
        {
          "output_type": "stream",
          "name": "stdout",
          "text": [
            "+------+---------+--------------------+--------------------+--------------------+--------------------+-----+\n",
            "|ItemID|Sentiment|       SentimentText|               words|            filtered|            features|label|\n",
            "+------+---------+--------------------+--------------------+--------------------+--------------------+-----+\n",
            "|     1|        0|                 ...|[is, so, sad, for...|[is, so, sad, for...|(1000,[21,209,344...|  1.0|\n",
            "|     2|        0|                 ...|[i, missed, the, ...|[i, missed, new, ...|(1000,[208,415,58...|  1.0|\n",
            "|     3|        1|              omg...|[omg, its, alread...|[omg, its, alread...|(1000,[15,86,178,...|  0.0|\n",
            "|     4|        0|          .. Omga...|[omgaga, im, sooo...|[omgaga, im, sooo...|(1000,[102,162,28...|  1.0|\n",
            "|     5|        0|         i think ...|[i, think, mi, bf...|[i, think, mi, bf...|(1000,[18,46,209,...|  1.0|\n",
            "+------+---------+--------------------+--------------------+--------------------+--------------------+-----+\n",
            "only showing top 5 rows\n",
            "\n"
          ]
        }
      ]
    },
    {
      "cell_type": "code",
      "source": [
        "lr = LogisticRegression(maxIter=20, regParam=0.3, elasticNetParam=0)\n",
        "lrModel = lr.fit(dataset)\n",
        "\n",
        "predictions = lrModel.transform(dataset)\n",
        "\n",
        "predictions.filter(predictions['prediction'] == 0).select(\"SentimentText\",\"Sentiment\",\"probability\",\"label\",\"prediction\")\\\n",
        ".orderBy(\"probability\", ascending=False).show(n = 100, truncate = 30)"
      ],
      "metadata": {
        "colab": {
          "base_uri": "https://localhost:8080/"
        },
        "id": "iYQlD7O6QtTJ",
        "outputId": "4c90a3a6-e881-413f-bdd9-f362c970a3be"
      },
      "execution_count": null,
      "outputs": [
        {
          "output_type": "stream",
          "name": "stdout",
          "text": [
            "+------------------------------+---------+------------------------------+-----+----------+\n",
            "|                 SentimentText|Sentiment|                   probability|label|prediction|\n",
            "+------------------------------+---------+------------------------------+-----+----------+\n",
            "|@ashleytisdale you are a go...|        1|[0.9387326400548155,0.06126...|  0.0|       0.0|\n",
            "| homeish lol..hella fun day...|        1|[0.9384767954529726,0.06152...|  0.0|       0.0|\n",
            "|@aaddiiss hahaha yea you're...|        1|[0.9361693844028244,0.06383...|  0.0|       0.0|\n",
            "|@11Locs @Cortnee4Christ You...|        1|[0.9344608776462744,0.06553...|  0.0|       0.0|\n",
            "|@_CrC_ Happy birthday to yo...|        1|[0.9315554002482325,0.06844...|  0.0|       0.0|\n",
            "|@_jaimemarie Oh, thank you,...|        1|[0.9306019157554524,0.06939...|  0.0|       0.0|\n",
            "|@AlexAllTimeLow I'd do the ...|        1|[0.9285579230950202,0.07144...|  0.0|       0.0|\n",
            "|&quot;There are only 2 kind...|        1|[0.9221225158522522,0.07787...|  0.0|       0.0|\n",
            "|@asinglewahm Good morning! ...|        1|[0.9162785246110344,0.08372...|  0.0|       0.0|\n",
            "|@BeautifulBarns Visited you...|        1|[0.9154950450871454,0.08450...|  0.0|       0.0|\n",
            "|@AlanCarr me and my son are...|        1|[0.9144098488961597,0.08559...|  0.0|       0.0|\n",
            "|#FollowFriday @ColleenLinds...|        1|[0.9144005703600347,0.08559...|  0.0|       0.0|\n",
            "|@ajitna Good to see you lik...|        1|[0.9134018829994315,0.08659...|  0.0|       0.0|\n",
            "|&quot;Expense claims rules ...|        1|[0.9122893325630552,0.08771...|  0.0|       0.0|\n",
            "|@aprilleb hello! Sure I had...|        1|[0.9119650115550819,0.08803...|  0.0|       0.0|\n",
            "|@alekosk hey alekos! you li...|        1|[0.9108205697645366,0.08917...|  0.0|       0.0|\n",
            "|&quot; she has a great smil...|        1|[0.9106465595430723,0.08935...|  0.0|       0.0|\n",
            "|@akiraLOVE  Hello akira! Ho...|        1|[0.9102623759422961,0.08973...|  0.0|       0.0|\n",
            "|@bidwellmusic you guys are ...|        1|[0.9086657000352542,0.09133...|  0.0|       0.0|\n",
            "|@azandiaMJBB @JudithandJim ...|        1|[0.908222737956331,0.091777...|  0.0|       0.0|\n",
            "|@andrewagarcia you're prett...|        1|[0.9044999753195234,0.09550...|  0.0|       0.0|\n",
            "|#FollowFriday @colleengleas...|        1|[0.9040332413364791,0.09596...|  0.0|       0.0|\n",
            "|@abbyharenberg hey abby, th...|        1|[0.9038510238120032,0.09614...|  0.0|       0.0|\n",
            "|@Avinio Good morning Avi an...|        1|[0.9037064448777853,0.09629...|  0.0|       0.0|\n",
            "|@CathieHeath Thank You  Tha...|        1|[0.9031154662207055,0.09688...|  0.0|       0.0|\n",
            "|@blctxt I'm good. Listening...|        1|[0.9030172037095041,0.09698...|  0.0|       0.0|\n",
            "|@ChesterPDexter Chester you...|        1|[0.9021222212024298,0.09787...|  0.0|       0.0|\n",
            "|#FollowFriday @JohnFMoore -...|        1|[0.9020349972730521,0.09796...|  0.0|       0.0|\n",
            "|@antiprism &quot;So Dan, u ...|        1|[0.9016788295065766,0.09832...|  0.0|       0.0|\n",
            "|@Bonniestwit  @dianaroua  @...|        1|[0.9016775460227201,0.09832...|  0.0|       0.0|\n",
            "|@Cody_K @jazgar G'night. Th...|        1|[0.9013399415308057,0.09866...|  0.0|       0.0|\n",
            "|@CarolRiddickRDU Thank You ...|        1|[0.9010339875285999,0.09896...|  0.0|       0.0|\n",
            "|#followfriday  Thanks guys!...|        1|[0.9001793174860823,0.09982...|  0.0|       0.0|\n",
            "|@Alasdair_Fowler you are re...|        1|[0.8999655770318956,0.10003...|  0.0|       0.0|\n",
            "|@AshleyakaHeart @CHEESElove...|        1|[0.8998442515991785,0.10015...|  0.0|       0.0|\n",
            "|@chimpytwit brilliant idea....|        0|[0.8988151249588506,0.10118...|  1.0|       0.0|\n",
            "|@allisonmack Allison, you a...|        1|[0.8981592629761789,0.10184...|  0.0|       0.0|\n",
            "|@breannamreina  @faithgodde...|        1|[0.8978828812638374,0.10211...|  0.0|       0.0|\n",
            "|@ChantellePaige Hey pretty ...|        1|[0.8975152887305409,0.10248...|  0.0|       0.0|\n",
            "|@BrentSpiner Thanks again f...|        1|[0.8975037634858588,0.10249...|  0.0|       0.0|\n",
            "|@BNow to Alex:sweetie,just ...|        1|[0.8951316126724466,0.10486...|  0.0|       0.0|\n",
            "|@AshleyLTMSYF http://twitpi...|        1|[0.8938519900687417,0.10614...|  0.0|       0.0|\n",
            "|@AdamBMusic You're sweet. t...|        1|[0.8937133528091015,0.10628...|  0.0|       0.0|\n",
            "|@_McLaughlin hey thanks for...|        1|[0.8924005712235805,0.10759...|  0.0|       0.0|\n",
            "|#followfriday @1sweetwhirl ...|        1|[0.8919117061297206,0.10808...|  0.0|       0.0|\n",
            "|@coldplay http://twitpic.co...|        1|[0.8919055296010344,0.10809...|  0.0|       0.0|\n",
            "|@_McLaughlin hey thanks for...|        1|[0.8913646087926352,0.10863...|  0.0|       0.0|\n",
            "|@charlief just say your twe...|        1|[0.8911098951252479,0.10889...|  0.0|       0.0|\n",
            "|@Cpitbull Thank you, thank ...|        1|[0.891014983245835,0.108985...|  0.0|       0.0|\n",
            "|@candiRSX Thank you and tha...|        1|[0.8909693677488512,0.10903...|  0.0|       0.0|\n",
            "|#musicmonday elevate -&gt; ...|        1|[0.8908623691928423,0.10913...|  0.0|       0.0|\n",
            "|@courtney_s loved the book....|        1|[0.8902831597720646,0.10971...|  0.0|       0.0|\n",
            "|@aplusk Congrats on hitting...|        1|[0.8899856871964085,0.11001...|  0.0|       0.0|\n",
            "|@babygirlparis http://twitp...|        1|[0.8897472856854665,0.11025...|  0.0|       0.0|\n",
            "|@CleanerLife Thank you, sir...|        1|[0.8896684957500856,0.11033...|  0.0|       0.0|\n",
            "|@caiddie Nice tweeting you ...|        1|[0.8894882811354121,0.11051...|  0.0|       0.0|\n",
            "|#followfriday @keza34 @pob3...|        1|[0.8885922561705051,0.11140...|  0.0|       0.0|\n",
            "|@AnahiMagia Love U! Thank U...|        1|[0.8883910311777903,0.11160...|  0.0|       0.0|\n",
            "|@analoglady Good Morning. D...|        1|[0.8877165472338863,0.11228...|  0.0|       0.0|\n",
            "|@aronsolomon I love how you...|        1|[0.8877018935583856,0.11229...|  0.0|       0.0|\n",
            "|@backstreetboys Woo 16 year...|        1|[0.8876851898187686,0.11231...|  0.0|       0.0|\n",
            "|@christinekambo Thank you, ...|        1|[0.887553197534218,0.112446...|  0.0|       0.0|\n",
            "|&quot;Open up your plans an...|        1|[0.8873988827979125,0.11260...|  0.0|       0.0|\n",
            "|@ArmyMom101 Thank you, you ...|        1|[0.8872633829093107,0.11273...|  0.0|       0.0|\n",
            "|#followfriday @LBOI @camero...|        1|[0.8856476281351544,0.11435...|  0.0|       0.0|\n",
            "|@Alyssa_Milano Awesome. Sou...|        1|[0.8856197034204759,0.11438...|  0.0|       0.0|\n",
            "|@Celticgirl1913 You'll be o...|        1|[0.885503977159578,0.114496...|  0.0|       0.0|\n",
            "|@alishagg love love love lo...|        1|[0.885446746224882,0.114553...|  0.0|       0.0|\n",
            "|@_CrC_ WOOT! i'm great. tha...|        1|[0.8852672576853161,0.11473...|  0.0|       0.0|\n",
            "|@ashleytisdale http://twitp...|        1|[0.8850499411731344,0.11495...|  0.0|       0.0|\n",
            "|@30SECONDSTOMARS aaaaaa art...|        1|[0.8835621671767041,0.11643...|  0.0|       0.0|\n",
            "|@AlyssaCee ok, ok, nice to ...|        1|[0.8831048679844067,0.11689...|  0.0|       0.0|\n",
            "|@AnoopDoggDesai yeah! Glad ...|        1|[0.883058480665286,0.116941...|  0.0|       0.0|\n",
            "|@AndreaCarnell Good morning...|        1|[0.8827809529955094,0.11721...|  0.0|       0.0|\n",
            "|@cochococho Get 100 followe...|        1|[0.8814856210575094,0.11851...|  0.0|       0.0|\n",
            "|@bellafira Happy Birthday! ...|        1|[0.8813438846345488,0.11865...|  0.0|       0.0|\n",
            "|@ale_chihiro heeeyy ale! i ...|        1|[0.8808514865861614,0.11914...|  0.0|       0.0|\n",
            "| @AriaaJaeger Created from ...|        1|[0.8807628536412885,0.11923...|  0.0|       0.0|\n",
            "|@awolblacmonks Get 100 foll...|        1|[0.8807360322788775,0.11926...|  0.0|       0.0|\n",
            "|@CGigandet I'm guessing you...|        1|[0.8798158366761566,0.12018...|  0.0|       0.0|\n",
            "|@BoomBoomBetty oh thanks yo...|        1|[0.8796329047701156,0.12036...|  0.0|       0.0|\n",
            "|#ff @vanillabean45 The most...|        1|[0.8796311720454186,0.12036...|  0.0|       0.0|\n",
            "|#followfriday If you're hea...|        1|[0.8795325757825972,0.12046...|  0.0|       0.0|\n",
            "|&quot;im in a dark theater ...|        1|[0.879409886346401,0.120590...|  0.0|       0.0|\n",
            "|@21stcenturyfox Thank you M...|        1|[0.8791416980277348,0.12085...|  0.0|       0.0|\n",
            "|@canadian_diva Hi, you migh...|        1|[0.8791097372196497,0.12089...|  0.0|       0.0|\n",
            "|@ahecht25 Thanks Amy!  That...|        1|[0.8789503169423079,0.12104...|  0.0|       0.0|\n",
            "|@captno3 Get 100 followers ...|        1|[0.8787223701768684,0.12127...|  0.0|       0.0|\n",
            "|@_nzdave if you ask reeeall...|        1|[0.8784057848049474,0.12159...|  0.0|       0.0|\n",
            "|#followfriday Follow @digip...|        1|[0.8783540637770523,0.12164...|  0.0|       0.0|\n",
            "|@bigchain Get 100 followers...|        1|[0.8781742415497942,0.12182...|  0.0|       0.0|\n",
            "|@angelinmERIKA Hey! Hahaha....|        1|[0.8779777787522456,0.12202...|  0.0|       0.0|\n",
            "|@23jarrell Get 100 follower...|        1|[0.8779294739558802,0.12207...|  0.0|       0.0|\n",
            "|#FF sweet spirits  @bersheb...|        1|[0.8779221079382865,0.12207...|  0.0|       0.0|\n",
            "|@colletteG Thank You  Thank...|        1|[0.8776877465443657,0.12231...|  0.0|       0.0|\n",
            "|@_Whirlwind hello  thanks f...|        1|[0.8774804186225053,0.12251...|  0.0|       0.0|\n",
            "|@ayacesara 2cos2x and dy/dx...|        1|[0.8772215348473874,0.12277...|  0.0|       0.0|\n",
            "|&quot;You can have, like, a...|        1|[0.8770627575280407,0.12293...|  0.0|       0.0|\n",
            "|#FollowFriday @HeatherOsbor...|        1|[0.8770318201355972,0.12296...|  0.0|       0.0|\n",
            "|@amygrant I love our kids a...|        1|[0.8768485071877191,0.12315...|  0.0|       0.0|\n",
            "+------------------------------+---------+------------------------------+-----+----------+\n",
            "only showing top 100 rows\n",
            "\n"
          ]
        }
      ]
    }
  ]
}