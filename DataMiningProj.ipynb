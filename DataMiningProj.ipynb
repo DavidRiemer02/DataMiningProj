{
  "cells": [
    {
      "cell_type": "markdown",
      "metadata": {
        "colab_type": "text",
        "id": "view-in-github"
      },
      "source": [
        "<a href=\"https://colab.research.google.com/github/DavidRiemer02/DataMiningProj/blob/main/DataMiningProj.ipynb\" target=\"_parent\"><img src=\"https://colab.research.google.com/assets/colab-badge.svg\" alt=\"Open In Colab\"/></a>"
      ]
    },
    {
      "cell_type": "markdown",
      "metadata": {
        "id": "M712TP5gkNJ2"
      },
      "source": [
        "# Setup"
      ]
    },
    {
      "cell_type": "code",
      "execution_count": 3,
      "metadata": {
        "id": "jD3p4H0l8Dvz"
      },
      "outputs": [],
      "source": [
        "import pandas as pd\n",
        "import numpy as np\n",
        "import matplotlib.pyplot as plt\n",
        "%matplotlib inline\n",
        "\n",
        "import pyspark\n",
        "from pyspark.sql import *\n",
        "from pyspark import SparkContext, SparkConf\n",
        "from pyspark.ml import Pipeline\n",
        "from pyspark.ml.feature import RegexTokenizer, StopWordsRemover, HashingTF, IDF, OneHotEncoder, StringIndexer, VectorAssembler, Tokenizer\n",
        "from pyspark.ml.classification import LogisticRegression\n",
        "from pyspark.ml.fpm import FPGrowth\n",
        "from pyspark.sql.functions import col\n",
        "from pyspark.sql.types import *\n",
        "\n",
        "\n",
        "\n",
        "import matplotlib.pyplot as plt\n",
        "\n",
        "import gensim, logging\n",
        "from gensim.models import Word2Vec\n",
        "\n",
        "from sklearn.decomposition import PCA"
      ]
    },
    {
      "cell_type": "markdown",
      "metadata": {
        "id": "8FHbc70jnDhb"
      },
      "source": [
        "Initialize spark context"
      ]
    },
    {
      "cell_type": "code",
      "execution_count": 3,
      "metadata": {
        "id": "1V08k_Bw8OIZ"
      },
      "outputs": [
        {
          "name": "stderr",
          "output_type": "stream",
          "text": [
            "c:\\Users\\corie\\AppData\\Local\\Programs\\Python\\Python311\\Lib\\site-packages\\pyspark\\sql\\context.py:113: FutureWarning: Deprecated in 3.0.0. Use SparkSession.builder.getOrCreate() instead.\n",
            "  warnings.warn(\n"
          ]
        }
      ],
      "source": [
        "conf = SparkConf().set(\"spark.ui.port\", \"4050\")\n",
        "\n",
        "# create the context\n",
        "sc = pyspark.SparkContext(conf=conf)\n",
        "spark = SparkSession.builder.getOrCreate()\n",
        "sqlContext = SQLContext(spark)"
      ]
    },
    {
      "cell_type": "markdown",
      "metadata": {
        "id": "Acpx4KgBoMGC"
      },
      "source": [
        "# Prepare the Data"
      ]
    },
    {
      "cell_type": "markdown",
      "metadata": {
        "id": "y6WlIkb_nGzz"
      },
      "source": [
        "Read in the data"
      ]
    },
    {
      "cell_type": "code",
      "execution_count": 4,
      "metadata": {
        "id": "QAsp7OHE8R54"
      },
      "outputs": [],
      "source": [
        "train = spark.read.csv('Data/train.csv', header=True, inferSchema=True)\n",
        "test = spark.read.csv('Data/test.csv', header=True, inferSchema=True)"
      ]
    },
    {
      "cell_type": "code",
      "execution_count": 5,
      "metadata": {
        "colab": {
          "base_uri": "https://localhost:8080/"
        },
        "id": "Pvw8KOzenkBb",
        "outputId": "1016e8d5-eb98-4d24-8d13-84f1fb5abf6d"
      },
      "outputs": [
        {
          "name": "stdout",
          "output_type": "stream",
          "text": [
            "root\n",
            " |-- ItemID: integer (nullable = true)\n",
            " |-- Sentiment: integer (nullable = true)\n",
            " |-- SentimentText: string (nullable = true)\n",
            "\n",
            "+------+---------+--------------------+\n",
            "|ItemID|Sentiment|       SentimentText|\n",
            "+------+---------+--------------------+\n",
            "|     1|        0|                 ...|\n",
            "|     2|        0|                 ...|\n",
            "|     3|        1|              omg...|\n",
            "|     4|        0|          .. Omga...|\n",
            "|     5|        0|         i think ...|\n",
            "|     6|        0|         or i jus...|\n",
            "|     7|        1|       Juuuuuuuuu...|\n",
            "|     8|        0|       Sunny Agai...|\n",
            "|     9|        1|      handed in m...|\n",
            "|    10|        1|      hmmmm.... i...|\n",
            "+------+---------+--------------------+\n",
            "only showing top 10 rows\n",
            "\n"
          ]
        }
      ],
      "source": [
        "train.printSchema()\n",
        "train.show(10)"
      ]
    },
    {
      "cell_type": "markdown",
      "metadata": {
        "id": "iKSg-1cj2iCv"
      },
      "source": [
        "Sentiment Count"
      ]
    },
    {
      "cell_type": "code",
      "execution_count": 11,
      "metadata": {
        "colab": {
          "base_uri": "https://localhost:8080/",
          "height": 573
        },
        "id": "Fs2sfqRf8Vwp",
        "outputId": "79d49fe8-a9d6-4aa4-f3b8-6135533488b4"
      },
      "outputs": [
        {
          "name": "stdout",
          "output_type": "stream",
          "text": [
            "+---------+-----+\n",
            "|Sentiment|count|\n",
            "+---------+-----+\n",
            "|        1|56462|\n",
            "|        0|43538|\n",
            "+---------+-----+\n",
            "\n"
          ]
        },
        {
          "data": {
            "image/png": "[encoded data removed]",
            "text/plain": [
              "<Figure size 640x480 with 1 Axes>"
            ]
          },
          "metadata": {},
          "output_type": "display_data"
        }
      ],
      "source": [
        "from pyspark.sql.functions import col\n",
        "import matplotlib.pyplot as plt\n",
        "\n",
        "# get the count of each sentiment\n",
        "train.groupBy(\"Sentiment\").count().orderBy(col(\"count\").desc()).show()\n",
        "\n",
        "noPosTweets = train.groupBy(\"Sentiment\").count().orderBy(col(\"count\").desc()).collect()[0][1]\n",
        "noNegTweets = train.groupBy(\"Sentiment\").count().orderBy(col(\"count\").desc()).collect()[1][1]\n",
        "\n",
        "objects = ('Positive Tweets', 'Negative Tweets')\n",
        "y_pos=(np.arange(len(objects)))\n",
        "performance = (noPosTweets, noNegTweets)\n",
        "plt.bar(objects, performance, align='center', alpha=0.5)\n",
        "plt.xticks(y_pos, objects)\n",
        "plt.ylabel('Amout')\n",
        "plt.title('Tweet Sentiment')\n",
        "plt.show()\n"
      ]
    },
    {
      "cell_type": "markdown",
      "metadata": {
        "id": "NYAaJ86B2xh2"
      },
      "source": [
        "Remove stopwords we do not need from the train data \\\\\n",
        "Transform the tweets into vectors of words"
      ]
    },
    {
      "cell_type": "code",
      "execution_count": 20,
      "metadata": {
        "id": "IH8RXN9cOxX_"
      },
      "outputs": [
        {
          "name": "stdout",
          "output_type": "stream",
          "text": [
            "+---------+-----------------------------------------------------------------------------------------------+---------------------------------------------------------------------------------------------------------------------------------------------------------------------------+\n",
            "|Sentiment|filtered                                                                                       |features                                                                                                                                                                   |\n",
            "+---------+-----------------------------------------------------------------------------------------------+---------------------------------------------------------------------------------------------------------------------------------------------------------------------------+\n",
            "|0        |[sad, apl, friend]                                                                             |(262144,[74520,74989,125638],[1.0,1.0,1.0])                                                                                                                                |\n",
            "|0        |[missed, new, moon, trailer]                                                                   |(262144,[64344,89833,165360,201103],[1.0,1.0,1.0,1.0])                                                                                                                     |\n",
            "|1        |[omg, already, 7, 30, o]                                                                       |(262144,[2306,49783,83580,172914,257750],[1.0,1.0,1.0,1.0,1.0])                                                                                                            |\n",
            "|0        |[omgaga, im, sooo, im, gunna, cry, ve, dentist, since, 11, suposed, 2, get, crown, put, 30mins]|(262144,[12524,31015,36755,69397,77751,95197,103775,133134,193727,204967,227008,233967,247479,252722,261626],[1.0,2.0,1.0,1.0,1.0,1.0,1.0,1.0,1.0,1.0,1.0,1.0,1.0,1.0,1.0])|\n",
            "|0        |[think, mi, bf, cheating, t_t]                                                                 |(262144,[95227,153423,174986,225606,245456],[1.0,1.0,1.0,1.0,1.0])                                                                                                         |\n",
            "+---------+-----------------------------------------------------------------------------------------------+---------------------------------------------------------------------------------------------------------------------------------------------------------------------------+\n",
            "only showing top 5 rows\n",
            "\n"
          ]
        }
      ],
      "source": [
        "from pyspark.ml.feature import RegexTokenizer, StopWordsRemover, HashingTF\n",
        "from pyspark.ml.classification import LogisticRegression\n",
        "from pyspark.ml import Pipeline\n",
        "from pyspark.sql.types import IntegerType\n",
        "\n",
        "# Add a column with just words\n",
        "regexTokenizer = RegexTokenizer(inputCol=\"SentimentText\", outputCol=\"words\", pattern=\"\\\\W\")\n",
        "\n",
        "# Remove the stop words\n",
        "stopwordsRemover = StopWordsRemover(inputCol=regexTokenizer.getOutputCol(), outputCol=\"filtered\")\n",
        "\n",
        "#converts words into numerical values\n",
        "hashingTF = HashingTF(inputCol=stopwordsRemover.getOutputCol(), outputCol=\"features\")\n",
        "\n",
        "pipeline = Pipeline(stages=[regexTokenizer, stopwordsRemover, hashingTF]).fit(train)\n",
        "\n",
        "dataset = pipeline.transform(train).select(\"Sentiment\", \"filtered\", \"features\")\n",
        "dataset = dataset.withColumn(\"Sentiment\", dataset[\"Sentiment\"].cast(IntegerType()))\n",
        "\n",
        "dataset.show(truncate=False, n=5)"
      ]
    },
    {
      "cell_type": "markdown",
      "metadata": {
        "id": "4_dpqga6fAmS"
      },
      "source": [
        "#Run Algorithms on the data"
      ]
    },
    {
      "cell_type": "markdown",
      "metadata": {
        "id": "D0kqO8Mtn4RJ"
      },
      "source": [
        "##Run Clustering-algorithms to find smiliar words"
      ]
    },
    {
      "cell_type": "code",
      "execution_count": 13,
      "metadata": {
        "id": "wqv-zyxhynH0"
      },
      "outputs": [
        {
          "ename": "Py4JJavaError",
          "evalue": "An error occurred while calling z:org.apache.spark.api.python.PythonRDD.collectAndServe.\n: org.apache.spark.SparkException: Job aborted due to stage failure: Task 2 in stage 44.0 failed 1 times, most recent failure: Lost task 2.0 in stage 44.0 (TID 48) (DavidsRazerBook executor driver): org.apache.spark.SparkException: Python worker failed to connect back.\r\n\tat org.apache.spark.api.python.PythonWorkerFactory.createSimpleWorker(PythonWorkerFactory.scala:203)\r\n\tat org.apache.spark.api.python.PythonWorkerFactory.create(PythonWorkerFactory.scala:109)\r\n\tat org.apache.spark.SparkEnv.createPythonWorker(SparkEnv.scala:124)\r\n\tat org.apache.spark.api.python.BasePythonRunner.compute(PythonRunner.scala:174)\r\n\tat org.apache.spark.api.python.PythonRDD.compute(PythonRDD.scala:67)\r\n\tat org.apache.spark.rdd.RDD.computeOrReadCheckpoint(RDD.scala:364)\r\n\tat org.apache.spark.rdd.RDD.iterator(RDD.scala:328)\r\n\tat org.apache.spark.scheduler.ResultTask.runTask(ResultTask.scala:93)\r\n\tat org.apache.spark.TaskContext.runTaskWithListeners(TaskContext.scala:161)\r\n\tat org.apache.spark.scheduler.Task.run(Task.scala:141)\r\n\tat org.apache.spark.executor.Executor$TaskRunner.$anonfun$run$4(Executor.scala:620)\r\n\tat org.apache.spark.util.SparkErrorUtils.tryWithSafeFinally(SparkErrorUtils.scala:64)\r\n\tat org.apache.spark.util.SparkErrorUtils.tryWithSafeFinally$(SparkErrorUtils.scala:61)\r\n\tat org.apache.spark.util.Utils$.tryWithSafeFinally(Utils.scala:94)\r\n\tat org.apache.spark.executor.Executor$TaskRunner.run(Executor.scala:623)\r\n\tat java.base/java.util.concurrent.ThreadPoolExecutor.runWorker(ThreadPoolExecutor.java:1144)\r\n\tat java.base/java.util.concurrent.ThreadPoolExecutor$Worker.run(ThreadPoolExecutor.java:642)\r\n\tat java.base/java.lang.Thread.run(Thread.java:1623)\r\nCaused by: java.net.SocketTimeoutException: Accept timed out\r\n\tat java.base/sun.nio.ch.NioSocketImpl.timedAccept(NioSocketImpl.java:699)\r\n\tat java.base/sun.nio.ch.NioSocketImpl.accept(NioSocketImpl.java:743)\r\n\tat java.base/java.net.ServerSocket.implAccept(ServerSocket.java:690)\r\n\tat java.base/java.net.ServerSocket.platformImplAccept(ServerSocket.java:655)\r\n\tat java.base/java.net.ServerSocket.implAccept(ServerSocket.java:631)\r\n\tat java.base/java.net.ServerSocket.implAccept(ServerSocket.java:588)\r\n\tat java.base/java.net.ServerSocket.accept(ServerSocket.java:546)\r\n\tat org.apache.spark.api.python.PythonWorkerFactory.createSimpleWorker(PythonWorkerFactory.scala:190)\r\n\t... 17 more\r\n\nDriver stacktrace:\r\n\tat org.apache.spark.scheduler.DAGScheduler.failJobAndIndependentStages(DAGScheduler.scala:2844)\r\n\tat org.apache.spark.scheduler.DAGScheduler.$anonfun$abortStage$2(DAGScheduler.scala:2780)\r\n\tat org.apache.spark.scheduler.DAGScheduler.$anonfun$abortStage$2$adapted(DAGScheduler.scala:2779)\r\n\tat scala.collection.mutable.ResizableArray.foreach(ResizableArray.scala:62)\r\n\tat scala.collection.mutable.ResizableArray.foreach$(ResizableArray.scala:55)\r\n\tat scala.collection.mutable.ArrayBuffer.foreach(ArrayBuffer.scala:49)\r\n\tat org.apache.spark.scheduler.DAGScheduler.abortStage(DAGScheduler.scala:2779)\r\n\tat org.apache.spark.scheduler.DAGScheduler.$anonfun$handleTaskSetFailed$1(DAGScheduler.scala:1242)\r\n\tat org.apache.spark.scheduler.DAGScheduler.$anonfun$handleTaskSetFailed$1$adapted(DAGScheduler.scala:1242)\r\n\tat scala.Option.foreach(Option.scala:407)\r\n\tat org.apache.spark.scheduler.DAGScheduler.handleTaskSetFailed(DAGScheduler.scala:1242)\r\n\tat org.apache.spark.scheduler.DAGSchedulerEventProcessLoop.doOnReceive(DAGScheduler.scala:3048)\r\n\tat org.apache.spark.scheduler.DAGSchedulerEventProcessLoop.onReceive(DAGScheduler.scala:2982)\r\n\tat org.apache.spark.scheduler.DAGSchedulerEventProcessLoop.onReceive(DAGScheduler.scala:2971)\r\n\tat org.apache.spark.util.EventLoop$$anon$1.run(EventLoop.scala:49)\r\n\tat org.apache.spark.scheduler.DAGScheduler.runJob(DAGScheduler.scala:984)\r\n\tat org.apache.spark.SparkContext.runJob(SparkContext.scala:2398)\r\n\tat org.apache.spark.SparkContext.runJob(SparkContext.scala:2419)\r\n\tat org.apache.spark.SparkContext.runJob(SparkContext.scala:2438)\r\n\tat org.apache.spark.SparkContext.runJob(SparkContext.scala:2463)\r\n\tat org.apache.spark.rdd.RDD.$anonfun$collect$1(RDD.scala:1046)\r\n\tat org.apache.spark.rdd.RDDOperationScope$.withScope(RDDOperationScope.scala:151)\r\n\tat org.apache.spark.rdd.RDDOperationScope$.withScope(RDDOperationScope.scala:112)\r\n\tat org.apache.spark.rdd.RDD.withScope(RDD.scala:407)\r\n\tat org.apache.spark.rdd.RDD.collect(RDD.scala:1045)\r\n\tat org.apache.spark.api.python.PythonRDD$.collectAndServe(PythonRDD.scala:195)\r\n\tat org.apache.spark.api.python.PythonRDD.collectAndServe(PythonRDD.scala)\r\n\tat java.base/jdk.internal.reflect.NativeMethodAccessorImpl.invoke0(Native Method)\r\n\tat java.base/jdk.internal.reflect.NativeMethodAccessorImpl.invoke(NativeMethodAccessorImpl.java:75)\r\n\tat java.base/jdk.internal.reflect.DelegatingMethodAccessorImpl.invoke(DelegatingMethodAccessorImpl.java:52)\r\n\tat java.base/java.lang.reflect.Method.invoke(Method.java:578)\r\n\tat py4j.reflection.MethodInvoker.invoke(MethodInvoker.java:244)\r\n\tat py4j.reflection.ReflectionEngine.invoke(ReflectionEngine.java:374)\r\n\tat py4j.Gateway.invoke(Gateway.java:282)\r\n\tat py4j.commands.AbstractCommand.invokeMethod(AbstractCommand.java:132)\r\n\tat py4j.commands.CallCommand.execute(CallCommand.java:79)\r\n\tat py4j.ClientServerConnection.waitForCommands(ClientServerConnection.java:182)\r\n\tat py4j.ClientServerConnection.run(ClientServerConnection.java:106)\r\n\tat java.base/java.lang.Thread.run(Thread.java:1623)\r\nCaused by: org.apache.spark.SparkException: Python worker failed to connect back.\r\n\tat org.apache.spark.api.python.PythonWorkerFactory.createSimpleWorker(PythonWorkerFactory.scala:203)\r\n\tat org.apache.spark.api.python.PythonWorkerFactory.create(PythonWorkerFactory.scala:109)\r\n\tat org.apache.spark.SparkEnv.createPythonWorker(SparkEnv.scala:124)\r\n\tat org.apache.spark.api.python.BasePythonRunner.compute(PythonRunner.scala:174)\r\n\tat org.apache.spark.api.python.PythonRDD.compute(PythonRDD.scala:67)\r\n\tat org.apache.spark.rdd.RDD.computeOrReadCheckpoint(RDD.scala:364)\r\n\tat org.apache.spark.rdd.RDD.iterator(RDD.scala:328)\r\n\tat org.apache.spark.scheduler.ResultTask.runTask(ResultTask.scala:93)\r\n\tat org.apache.spark.TaskContext.runTaskWithListeners(TaskContext.scala:161)\r\n\tat org.apache.spark.scheduler.Task.run(Task.scala:141)\r\n\tat org.apache.spark.executor.Executor$TaskRunner.$anonfun$run$4(Executor.scala:620)\r\n\tat org.apache.spark.util.SparkErrorUtils.tryWithSafeFinally(SparkErrorUtils.scala:64)\r\n\tat org.apache.spark.util.SparkErrorUtils.tryWithSafeFinally$(SparkErrorUtils.scala:61)\r\n\tat org.apache.spark.util.Utils$.tryWithSafeFinally(Utils.scala:94)\r\n\tat org.apache.spark.executor.Executor$TaskRunner.run(Executor.scala:623)\r\n\tat java.base/java.util.concurrent.ThreadPoolExecutor.runWorker(ThreadPoolExecutor.java:1144)\r\n\tat java.base/java.util.concurrent.ThreadPoolExecutor$Worker.run(ThreadPoolExecutor.java:642)\r\n\t... 1 more\r\nCaused by: java.net.SocketTimeoutException: Accept timed out\r\n\tat java.base/sun.nio.ch.NioSocketImpl.timedAccept(NioSocketImpl.java:699)\r\n\tat java.base/sun.nio.ch.NioSocketImpl.accept(NioSocketImpl.java:743)\r\n\tat java.base/java.net.ServerSocket.implAccept(ServerSocket.java:690)\r\n\tat java.base/java.net.ServerSocket.platformImplAccept(ServerSocket.java:655)\r\n\tat java.base/java.net.ServerSocket.implAccept(ServerSocket.java:631)\r\n\tat java.base/java.net.ServerSocket.implAccept(ServerSocket.java:588)\r\n\tat java.base/java.net.ServerSocket.accept(ServerSocket.java:546)\r\n\tat org.apache.spark.api.python.PythonWorkerFactory.createSimpleWorker(PythonWorkerFactory.scala:190)\r\n\t... 17 more\r\n",
          "output_type": "error",
          "traceback": [
            "\u001b[1;31m---------------------------------------------------------------------------\u001b[0m",
            "\u001b[1;31mPy4JJavaError\u001b[0m                             Traceback (most recent call last)",
            "\u001b[1;32mc:\\Users\\corie\\Desktop\\DataMiningProj\\DataMiningProj.ipynb Cell 17\u001b[0m line \u001b[0;36m6\n\u001b[0;32m      <a href='vscode-notebook-cell:/c%3A/Users/corie/Desktop/DataMiningProj/DataMiningProj.ipynb#X22sZmlsZQ%3D%3D?line=3'>4</a>\u001b[0m logging\u001b[39m.\u001b[39mbasicConfig(\u001b[39mformat\u001b[39m\u001b[39m=\u001b[39m\u001b[39m'\u001b[39m\u001b[39m%(asctime)s\u001b[39;00m\u001b[39m : \u001b[39m\u001b[39m%(levelname)s\u001b[39;00m\u001b[39m : \u001b[39m\u001b[39m%(message)s\u001b[39;00m\u001b[39m'\u001b[39m, level\u001b[39m=\u001b[39mlogging\u001b[39m.\u001b[39mINFO)\n\u001b[0;32m      <a href='vscode-notebook-cell:/c%3A/Users/corie/Desktop/DataMiningProj/DataMiningProj.ipynb#X22sZmlsZQ%3D%3D?line=4'>5</a>\u001b[0m \u001b[39m#Collect the sentences from the dataframe to a list of lists\u001b[39;00m\n\u001b[1;32m----> <a href='vscode-notebook-cell:/c%3A/Users/corie/Desktop/DataMiningProj/DataMiningProj.ipynb#X22sZmlsZQ%3D%3D?line=5'>6</a>\u001b[0m sentences \u001b[39m=\u001b[39m dataset\u001b[39m.\u001b[39;49mselect(\u001b[39m\"\u001b[39;49m\u001b[39mfiltered\u001b[39;49m\u001b[39m\"\u001b[39;49m)\u001b[39m.\u001b[39;49mrdd\u001b[39m.\u001b[39;49mflatMap(\u001b[39mlambda\u001b[39;49;00m x: x)\u001b[39m.\u001b[39;49mcollect()\n",
            "File \u001b[1;32mc:\\Users\\corie\\AppData\\Local\\Programs\\Python\\Python311\\Lib\\site-packages\\pyspark\\rdd.py:1833\u001b[0m, in \u001b[0;36mRDD.collect\u001b[1;34m(self)\u001b[0m\n\u001b[0;32m   1831\u001b[0m \u001b[39mwith\u001b[39;00m SCCallSiteSync(\u001b[39mself\u001b[39m\u001b[39m.\u001b[39mcontext):\n\u001b[0;32m   1832\u001b[0m     \u001b[39massert\u001b[39;00m \u001b[39mself\u001b[39m\u001b[39m.\u001b[39mctx\u001b[39m.\u001b[39m_jvm \u001b[39mis\u001b[39;00m \u001b[39mnot\u001b[39;00m \u001b[39mNone\u001b[39;00m\n\u001b[1;32m-> 1833\u001b[0m     sock_info \u001b[39m=\u001b[39m \u001b[39mself\u001b[39;49m\u001b[39m.\u001b[39;49mctx\u001b[39m.\u001b[39;49m_jvm\u001b[39m.\u001b[39;49mPythonRDD\u001b[39m.\u001b[39;49mcollectAndServe(\u001b[39mself\u001b[39;49m\u001b[39m.\u001b[39;49m_jrdd\u001b[39m.\u001b[39;49mrdd())\n\u001b[0;32m   1834\u001b[0m \u001b[39mreturn\u001b[39;00m \u001b[39mlist\u001b[39m(_load_from_socket(sock_info, \u001b[39mself\u001b[39m\u001b[39m.\u001b[39m_jrdd_deserializer))\n",
            "File \u001b[1;32mc:\\Users\\corie\\AppData\\Local\\Programs\\Python\\Python311\\Lib\\site-packages\\py4j\\java_gateway.py:1322\u001b[0m, in \u001b[0;36mJavaMember.__call__\u001b[1;34m(self, *args)\u001b[0m\n\u001b[0;32m   1316\u001b[0m command \u001b[39m=\u001b[39m proto\u001b[39m.\u001b[39mCALL_COMMAND_NAME \u001b[39m+\u001b[39m\\\n\u001b[0;32m   1317\u001b[0m     \u001b[39mself\u001b[39m\u001b[39m.\u001b[39mcommand_header \u001b[39m+\u001b[39m\\\n\u001b[0;32m   1318\u001b[0m     args_command \u001b[39m+\u001b[39m\\\n\u001b[0;32m   1319\u001b[0m     proto\u001b[39m.\u001b[39mEND_COMMAND_PART\n\u001b[0;32m   1321\u001b[0m answer \u001b[39m=\u001b[39m \u001b[39mself\u001b[39m\u001b[39m.\u001b[39mgateway_client\u001b[39m.\u001b[39msend_command(command)\n\u001b[1;32m-> 1322\u001b[0m return_value \u001b[39m=\u001b[39m get_return_value(\n\u001b[0;32m   1323\u001b[0m     answer, \u001b[39mself\u001b[39;49m\u001b[39m.\u001b[39;49mgateway_client, \u001b[39mself\u001b[39;49m\u001b[39m.\u001b[39;49mtarget_id, \u001b[39mself\u001b[39;49m\u001b[39m.\u001b[39;49mname)\n\u001b[0;32m   1325\u001b[0m \u001b[39mfor\u001b[39;00m temp_arg \u001b[39min\u001b[39;00m temp_args:\n\u001b[0;32m   1326\u001b[0m     \u001b[39mif\u001b[39;00m \u001b[39mhasattr\u001b[39m(temp_arg, \u001b[39m\"\u001b[39m\u001b[39m_detach\u001b[39m\u001b[39m\"\u001b[39m):\n",
            "File \u001b[1;32mc:\\Users\\corie\\AppData\\Local\\Programs\\Python\\Python311\\Lib\\site-packages\\pyspark\\errors\\exceptions\\captured.py:179\u001b[0m, in \u001b[0;36mcapture_sql_exception.<locals>.deco\u001b[1;34m(*a, **kw)\u001b[0m\n\u001b[0;32m    177\u001b[0m \u001b[39mdef\u001b[39;00m \u001b[39mdeco\u001b[39m(\u001b[39m*\u001b[39ma: Any, \u001b[39m*\u001b[39m\u001b[39m*\u001b[39mkw: Any) \u001b[39m-\u001b[39m\u001b[39m>\u001b[39m Any:\n\u001b[0;32m    178\u001b[0m     \u001b[39mtry\u001b[39;00m:\n\u001b[1;32m--> 179\u001b[0m         \u001b[39mreturn\u001b[39;00m f(\u001b[39m*\u001b[39;49ma, \u001b[39m*\u001b[39;49m\u001b[39m*\u001b[39;49mkw)\n\u001b[0;32m    180\u001b[0m     \u001b[39mexcept\u001b[39;00m Py4JJavaError \u001b[39mas\u001b[39;00m e:\n\u001b[0;32m    181\u001b[0m         converted \u001b[39m=\u001b[39m convert_exception(e\u001b[39m.\u001b[39mjava_exception)\n",
            "File \u001b[1;32mc:\\Users\\corie\\AppData\\Local\\Programs\\Python\\Python311\\Lib\\site-packages\\py4j\\protocol.py:326\u001b[0m, in \u001b[0;36mget_return_value\u001b[1;34m(answer, gateway_client, target_id, name)\u001b[0m\n\u001b[0;32m    324\u001b[0m value \u001b[39m=\u001b[39m OUTPUT_CONVERTER[\u001b[39mtype\u001b[39m](answer[\u001b[39m2\u001b[39m:], gateway_client)\n\u001b[0;32m    325\u001b[0m \u001b[39mif\u001b[39;00m answer[\u001b[39m1\u001b[39m] \u001b[39m==\u001b[39m REFERENCE_TYPE:\n\u001b[1;32m--> 326\u001b[0m     \u001b[39mraise\u001b[39;00m Py4JJavaError(\n\u001b[0;32m    327\u001b[0m         \u001b[39m\"\u001b[39m\u001b[39mAn error occurred while calling \u001b[39m\u001b[39m{0}\u001b[39;00m\u001b[39m{1}\u001b[39;00m\u001b[39m{2}\u001b[39;00m\u001b[39m.\u001b[39m\u001b[39m\\n\u001b[39;00m\u001b[39m\"\u001b[39m\u001b[39m.\u001b[39m\n\u001b[0;32m    328\u001b[0m         \u001b[39mformat\u001b[39m(target_id, \u001b[39m\"\u001b[39m\u001b[39m.\u001b[39m\u001b[39m\"\u001b[39m, name), value)\n\u001b[0;32m    329\u001b[0m \u001b[39melse\u001b[39;00m:\n\u001b[0;32m    330\u001b[0m     \u001b[39mraise\u001b[39;00m Py4JError(\n\u001b[0;32m    331\u001b[0m         \u001b[39m\"\u001b[39m\u001b[39mAn error occurred while calling \u001b[39m\u001b[39m{0}\u001b[39;00m\u001b[39m{1}\u001b[39;00m\u001b[39m{2}\u001b[39;00m\u001b[39m. Trace:\u001b[39m\u001b[39m\\n\u001b[39;00m\u001b[39m{3}\u001b[39;00m\u001b[39m\\n\u001b[39;00m\u001b[39m\"\u001b[39m\u001b[39m.\u001b[39m\n\u001b[0;32m    332\u001b[0m         \u001b[39mformat\u001b[39m(target_id, \u001b[39m\"\u001b[39m\u001b[39m.\u001b[39m\u001b[39m\"\u001b[39m, name, value))\n",
            "\u001b[1;31mPy4JJavaError\u001b[0m: An error occurred while calling z:org.apache.spark.api.python.PythonRDD.collectAndServe.\n: org.apache.spark.SparkException: Job aborted due to stage failure: Task 2 in stage 44.0 failed 1 times, most recent failure: Lost task 2.0 in stage 44.0 (TID 48) (DavidsRazerBook executor driver): org.apache.spark.SparkException: Python worker failed to connect back.\r\n\tat org.apache.spark.api.python.PythonWorkerFactory.createSimpleWorker(PythonWorkerFactory.scala:203)\r\n\tat org.apache.spark.api.python.PythonWorkerFactory.create(PythonWorkerFactory.scala:109)\r\n\tat org.apache.spark.SparkEnv.createPythonWorker(SparkEnv.scala:124)\r\n\tat org.apache.spark.api.python.BasePythonRunner.compute(PythonRunner.scala:174)\r\n\tat org.apache.spark.api.python.PythonRDD.compute(PythonRDD.scala:67)\r\n\tat org.apache.spark.rdd.RDD.computeOrReadCheckpoint(RDD.scala:364)\r\n\tat org.apache.spark.rdd.RDD.iterator(RDD.scala:328)\r\n\tat org.apache.spark.scheduler.ResultTask.runTask(ResultTask.scala:93)\r\n\tat org.apache.spark.TaskContext.runTaskWithListeners(TaskContext.scala:161)\r\n\tat org.apache.spark.scheduler.Task.run(Task.scala:141)\r\n\tat org.apache.spark.executor.Executor$TaskRunner.$anonfun$run$4(Executor.scala:620)\r\n\tat org.apache.spark.util.SparkErrorUtils.tryWithSafeFinally(SparkErrorUtils.scala:64)\r\n\tat org.apache.spark.util.SparkErrorUtils.tryWithSafeFinally$(SparkErrorUtils.scala:61)\r\n\tat org.apache.spark.util.Utils$.tryWithSafeFinally(Utils.scala:94)\r\n\tat org.apache.spark.executor.Executor$TaskRunner.run(Executor.scala:623)\r\n\tat java.base/java.util.concurrent.ThreadPoolExecutor.runWorker(ThreadPoolExecutor.java:1144)\r\n\tat java.base/java.util.concurrent.ThreadPoolExecutor$Worker.run(ThreadPoolExecutor.java:642)\r\n\tat java.base/java.lang.Thread.run(Thread.java:1623)\r\nCaused by: java.net.SocketTimeoutException: Accept timed out\r\n\tat java.base/sun.nio.ch.NioSocketImpl.timedAccept(NioSocketImpl.java:699)\r\n\tat java.base/sun.nio.ch.NioSocketImpl.accept(NioSocketImpl.java:743)\r\n\tat java.base/java.net.ServerSocket.implAccept(ServerSocket.java:690)\r\n\tat java.base/java.net.ServerSocket.platformImplAccept(ServerSocket.java:655)\r\n\tat java.base/java.net.ServerSocket.implAccept(ServerSocket.java:631)\r\n\tat java.base/java.net.ServerSocket.implAccept(ServerSocket.java:588)\r\n\tat java.base/java.net.ServerSocket.accept(ServerSocket.java:546)\r\n\tat org.apache.spark.api.python.PythonWorkerFactory.createSimpleWorker(PythonWorkerFactory.scala:190)\r\n\t... 17 more\r\n\nDriver stacktrace:\r\n\tat org.apache.spark.scheduler.DAGScheduler.failJobAndIndependentStages(DAGScheduler.scala:2844)\r\n\tat org.apache.spark.scheduler.DAGScheduler.$anonfun$abortStage$2(DAGScheduler.scala:2780)\r\n\tat org.apache.spark.scheduler.DAGScheduler.$anonfun$abortStage$2$adapted(DAGScheduler.scala:2779)\r\n\tat scala.collection.mutable.ResizableArray.foreach(ResizableArray.scala:62)\r\n\tat scala.collection.mutable.ResizableArray.foreach$(ResizableArray.scala:55)\r\n\tat scala.collection.mutable.ArrayBuffer.foreach(ArrayBuffer.scala:49)\r\n\tat org.apache.spark.scheduler.DAGScheduler.abortStage(DAGScheduler.scala:2779)\r\n\tat org.apache.spark.scheduler.DAGScheduler.$anonfun$handleTaskSetFailed$1(DAGScheduler.scala:1242)\r\n\tat org.apache.spark.scheduler.DAGScheduler.$anonfun$handleTaskSetFailed$1$adapted(DAGScheduler.scala:1242)\r\n\tat scala.Option.foreach(Option.scala:407)\r\n\tat org.apache.spark.scheduler.DAGScheduler.handleTaskSetFailed(DAGScheduler.scala:1242)\r\n\tat org.apache.spark.scheduler.DAGSchedulerEventProcessLoop.doOnReceive(DAGScheduler.scala:3048)\r\n\tat org.apache.spark.scheduler.DAGSchedulerEventProcessLoop.onReceive(DAGScheduler.scala:2982)\r\n\tat org.apache.spark.scheduler.DAGSchedulerEventProcessLoop.onReceive(DAGScheduler.scala:2971)\r\n\tat org.apache.spark.util.EventLoop$$anon$1.run(EventLoop.scala:49)\r\n\tat org.apache.spark.scheduler.DAGScheduler.runJob(DAGScheduler.scala:984)\r\n\tat org.apache.spark.SparkContext.runJob(SparkContext.scala:2398)\r\n\tat org.apache.spark.SparkContext.runJob(SparkContext.scala:2419)\r\n\tat org.apache.spark.SparkContext.runJob(SparkContext.scala:2438)\r\n\tat org.apache.spark.SparkContext.runJob(SparkContext.scala:2463)\r\n\tat org.apache.spark.rdd.RDD.$anonfun$collect$1(RDD.scala:1046)\r\n\tat org.apache.spark.rdd.RDDOperationScope$.withScope(RDDOperationScope.scala:151)\r\n\tat org.apache.spark.rdd.RDDOperationScope$.withScope(RDDOperationScope.scala:112)\r\n\tat org.apache.spark.rdd.RDD.withScope(RDD.scala:407)\r\n\tat org.apache.spark.rdd.RDD.collect(RDD.scala:1045)\r\n\tat org.apache.spark.api.python.PythonRDD$.collectAndServe(PythonRDD.scala:195)\r\n\tat org.apache.spark.api.python.PythonRDD.collectAndServe(PythonRDD.scala)\r\n\tat java.base/jdk.internal.reflect.NativeMethodAccessorImpl.invoke0(Native Method)\r\n\tat java.base/jdk.internal.reflect.NativeMethodAccessorImpl.invoke(NativeMethodAccessorImpl.java:75)\r\n\tat java.base/jdk.internal.reflect.DelegatingMethodAccessorImpl.invoke(DelegatingMethodAccessorImpl.java:52)\r\n\tat java.base/java.lang.reflect.Method.invoke(Method.java:578)\r\n\tat py4j.reflection.MethodInvoker.invoke(MethodInvoker.java:244)\r\n\tat py4j.reflection.ReflectionEngine.invoke(ReflectionEngine.java:374)\r\n\tat py4j.Gateway.invoke(Gateway.java:282)\r\n\tat py4j.commands.AbstractCommand.invokeMethod(AbstractCommand.java:132)\r\n\tat py4j.commands.CallCommand.execute(CallCommand.java:79)\r\n\tat py4j.ClientServerConnection.waitForCommands(ClientServerConnection.java:182)\r\n\tat py4j.ClientServerConnection.run(ClientServerConnection.java:106)\r\n\tat java.base/java.lang.Thread.run(Thread.java:1623)\r\nCaused by: org.apache.spark.SparkException: Python worker failed to connect back.\r\n\tat org.apache.spark.api.python.PythonWorkerFactory.createSimpleWorker(PythonWorkerFactory.scala:203)\r\n\tat org.apache.spark.api.python.PythonWorkerFactory.create(PythonWorkerFactory.scala:109)\r\n\tat org.apache.spark.SparkEnv.createPythonWorker(SparkEnv.scala:124)\r\n\tat org.apache.spark.api.python.BasePythonRunner.compute(PythonRunner.scala:174)\r\n\tat org.apache.spark.api.python.PythonRDD.compute(PythonRDD.scala:67)\r\n\tat org.apache.spark.rdd.RDD.computeOrReadCheckpoint(RDD.scala:364)\r\n\tat org.apache.spark.rdd.RDD.iterator(RDD.scala:328)\r\n\tat org.apache.spark.scheduler.ResultTask.runTask(ResultTask.scala:93)\r\n\tat org.apache.spark.TaskContext.runTaskWithListeners(TaskContext.scala:161)\r\n\tat org.apache.spark.scheduler.Task.run(Task.scala:141)\r\n\tat org.apache.spark.executor.Executor$TaskRunner.$anonfun$run$4(Executor.scala:620)\r\n\tat org.apache.spark.util.SparkErrorUtils.tryWithSafeFinally(SparkErrorUtils.scala:64)\r\n\tat org.apache.spark.util.SparkErrorUtils.tryWithSafeFinally$(SparkErrorUtils.scala:61)\r\n\tat org.apache.spark.util.Utils$.tryWithSafeFinally(Utils.scala:94)\r\n\tat org.apache.spark.executor.Executor$TaskRunner.run(Executor.scala:623)\r\n\tat java.base/java.util.concurrent.ThreadPoolExecutor.runWorker(ThreadPoolExecutor.java:1144)\r\n\tat java.base/java.util.concurrent.ThreadPoolExecutor$Worker.run(ThreadPoolExecutor.java:642)\r\n\t... 1 more\r\nCaused by: java.net.SocketTimeoutException: Accept timed out\r\n\tat java.base/sun.nio.ch.NioSocketImpl.timedAccept(NioSocketImpl.java:699)\r\n\tat java.base/sun.nio.ch.NioSocketImpl.accept(NioSocketImpl.java:743)\r\n\tat java.base/java.net.ServerSocket.implAccept(ServerSocket.java:690)\r\n\tat java.base/java.net.ServerSocket.platformImplAccept(ServerSocket.java:655)\r\n\tat java.base/java.net.ServerSocket.implAccept(ServerSocket.java:631)\r\n\tat java.base/java.net.ServerSocket.implAccept(ServerSocket.java:588)\r\n\tat java.base/java.net.ServerSocket.accept(ServerSocket.java:546)\r\n\tat org.apache.spark.api.python.PythonWorkerFactory.createSimpleWorker(PythonWorkerFactory.scala:190)\r\n\t... 17 more\r\n"
          ]
        }
      ],
      "source": [
        "import gensim, logging\n",
        "from gensim.models import Word2Vec\n",
        "\n",
        "logging.basicConfig(format='%(asctime)s : %(levelname)s : %(message)s', level=logging.INFO)\n",
        "#Collect the sentences from the dataframe to a list of lists\n",
        "sentences = dataset.select(\"filtered\").rdd.flatMap(lambda x: x).collect()"
      ]
    },
    {
      "cell_type": "code",
      "execution_count": 17,
      "metadata": {
        "id": "C63rB3vqn3MX"
      },
      "outputs": [
        {
          "ename": "TypeError",
          "evalue": "The corpus_iterable must be an iterable of lists of strings, got <function sentences at 0x000002D9345FCE00> instead",
          "output_type": "error",
          "traceback": [
            "\u001b[1;31m---------------------------------------------------------------------------\u001b[0m",
            "\u001b[1;31mTypeError\u001b[0m                                 Traceback (most recent call last)",
            "\u001b[1;32mc:\\Users\\corie\\Desktop\\DataMiningProj\\DataMiningProj.ipynb Cell 19\u001b[0m line \u001b[0;36m2\n\u001b[0;32m      <a href='vscode-notebook-cell:/c%3A/Users/corie/Desktop/DataMiningProj/DataMiningProj.ipynb#X25sZmlsZQ%3D%3D?line=0'>1</a>\u001b[0m \u001b[39m# train word2vec on the two sentences\u001b[39;00m\n\u001b[1;32m----> <a href='vscode-notebook-cell:/c%3A/Users/corie/Desktop/DataMiningProj/DataMiningProj.ipynb#X25sZmlsZQ%3D%3D?line=1'>2</a>\u001b[0m model \u001b[39m=\u001b[39m gensim\u001b[39m.\u001b[39;49mmodels\u001b[39m.\u001b[39;49mWord2Vec(sentences, min_count\u001b[39m=\u001b[39;49m\u001b[39m1\u001b[39;49m)\n\u001b[0;32m      <a href='vscode-notebook-cell:/c%3A/Users/corie/Desktop/DataMiningProj/DataMiningProj.ipynb#X25sZmlsZQ%3D%3D?line=2'>3</a>\u001b[0m model \u001b[39m=\u001b[39m Word2Vec(sentences, vector_size\u001b[39m=\u001b[39m\u001b[39m20\u001b[39m, min_count\u001b[39m=\u001b[39m\u001b[39m100\u001b[39m)\n",
            "File \u001b[1;32mc:\\Users\\corie\\AppData\\Local\\Programs\\Python\\Python311\\Lib\\site-packages\\gensim\\models\\word2vec.py:428\u001b[0m, in \u001b[0;36mWord2Vec.__init__\u001b[1;34m(self, sentences, corpus_file, vector_size, alpha, window, min_count, max_vocab_size, sample, seed, workers, min_alpha, sg, hs, negative, ns_exponent, cbow_mean, hashfxn, epochs, null_word, trim_rule, sorted_vocab, batch_words, compute_loss, callbacks, comment, max_final_vocab, shrink_windows)\u001b[0m\n\u001b[0;32m    425\u001b[0m \u001b[39mself\u001b[39m\u001b[39m.\u001b[39mload \u001b[39m=\u001b[39m call_on_class_only\n\u001b[0;32m    427\u001b[0m \u001b[39mif\u001b[39;00m corpus_iterable \u001b[39mis\u001b[39;00m \u001b[39mnot\u001b[39;00m \u001b[39mNone\u001b[39;00m \u001b[39mor\u001b[39;00m corpus_file \u001b[39mis\u001b[39;00m \u001b[39mnot\u001b[39;00m \u001b[39mNone\u001b[39;00m:\n\u001b[1;32m--> 428\u001b[0m     \u001b[39mself\u001b[39;49m\u001b[39m.\u001b[39;49m_check_corpus_sanity(corpus_iterable\u001b[39m=\u001b[39;49mcorpus_iterable, corpus_file\u001b[39m=\u001b[39;49mcorpus_file, passes\u001b[39m=\u001b[39;49m(epochs \u001b[39m+\u001b[39;49m \u001b[39m1\u001b[39;49m))\n\u001b[0;32m    429\u001b[0m     \u001b[39mself\u001b[39m\u001b[39m.\u001b[39mbuild_vocab(corpus_iterable\u001b[39m=\u001b[39mcorpus_iterable, corpus_file\u001b[39m=\u001b[39mcorpus_file, trim_rule\u001b[39m=\u001b[39mtrim_rule)\n\u001b[0;32m    430\u001b[0m     \u001b[39mself\u001b[39m\u001b[39m.\u001b[39mtrain(\n\u001b[0;32m    431\u001b[0m         corpus_iterable\u001b[39m=\u001b[39mcorpus_iterable, corpus_file\u001b[39m=\u001b[39mcorpus_file, total_examples\u001b[39m=\u001b[39m\u001b[39mself\u001b[39m\u001b[39m.\u001b[39mcorpus_count,\n\u001b[0;32m    432\u001b[0m         total_words\u001b[39m=\u001b[39m\u001b[39mself\u001b[39m\u001b[39m.\u001b[39mcorpus_total_words, epochs\u001b[39m=\u001b[39m\u001b[39mself\u001b[39m\u001b[39m.\u001b[39mepochs, start_alpha\u001b[39m=\u001b[39m\u001b[39mself\u001b[39m\u001b[39m.\u001b[39malpha,\n\u001b[0;32m    433\u001b[0m         end_alpha\u001b[39m=\u001b[39m\u001b[39mself\u001b[39m\u001b[39m.\u001b[39mmin_alpha, compute_loss\u001b[39m=\u001b[39m\u001b[39mself\u001b[39m\u001b[39m.\u001b[39mcompute_loss, callbacks\u001b[39m=\u001b[39mcallbacks)\n",
            "File \u001b[1;32mc:\\Users\\corie\\AppData\\Local\\Programs\\Python\\Python311\\Lib\\site-packages\\gensim\\models\\word2vec.py:1503\u001b[0m, in \u001b[0;36mWord2Vec._check_corpus_sanity\u001b[1;34m(self, corpus_iterable, corpus_file, passes)\u001b[0m\n\u001b[0;32m   1501\u001b[0m     \u001b[39mraise\u001b[39;00m \u001b[39mTypeError\u001b[39;00m(\u001b[39m\"\u001b[39m\u001b[39mParameter corpus_file must be a valid path to a file, got \u001b[39m\u001b[39m%r\u001b[39;00m\u001b[39m instead\u001b[39m\u001b[39m\"\u001b[39m \u001b[39m%\u001b[39m corpus_file)\n\u001b[0;32m   1502\u001b[0m \u001b[39mif\u001b[39;00m corpus_iterable \u001b[39mis\u001b[39;00m \u001b[39mnot\u001b[39;00m \u001b[39mNone\u001b[39;00m \u001b[39mand\u001b[39;00m \u001b[39mnot\u001b[39;00m \u001b[39misinstance\u001b[39m(corpus_iterable, Iterable):\n\u001b[1;32m-> 1503\u001b[0m     \u001b[39mraise\u001b[39;00m \u001b[39mTypeError\u001b[39;00m(\n\u001b[0;32m   1504\u001b[0m         \u001b[39m\"\u001b[39m\u001b[39mThe corpus_iterable must be an iterable of lists of strings, got \u001b[39m\u001b[39m%r\u001b[39;00m\u001b[39m instead\u001b[39m\u001b[39m\"\u001b[39m \u001b[39m%\u001b[39m corpus_iterable)\n\u001b[0;32m   1505\u001b[0m \u001b[39mif\u001b[39;00m corpus_iterable \u001b[39mis\u001b[39;00m \u001b[39mnot\u001b[39;00m \u001b[39mNone\u001b[39;00m \u001b[39mand\u001b[39;00m \u001b[39misinstance\u001b[39m(corpus_iterable, GeneratorType) \u001b[39mand\u001b[39;00m passes \u001b[39m>\u001b[39m \u001b[39m1\u001b[39m:\n\u001b[0;32m   1506\u001b[0m     \u001b[39mraise\u001b[39;00m \u001b[39mTypeError\u001b[39;00m(\n\u001b[0;32m   1507\u001b[0m         \u001b[39mf\u001b[39m\u001b[39m\"\u001b[39m\u001b[39mUsing a generator as corpus_iterable can\u001b[39m\u001b[39m'\u001b[39m\u001b[39mt support \u001b[39m\u001b[39m{\u001b[39;00mpasses\u001b[39m}\u001b[39;00m\u001b[39m passes. Try a re-iterable sequence.\u001b[39m\u001b[39m\"\u001b[39m)\n",
            "\u001b[1;31mTypeError\u001b[0m: The corpus_iterable must be an iterable of lists of strings, got <function sentences at 0x000002D9345FCE00> instead"
          ]
        }
      ],
      "source": [
        "# train word2vec on the two sentences\n",
        "model = gensim.models.Word2Vec(sentences, min_count=1)\n",
        "model = Word2Vec(sentences, vector_size=20, min_count=100)"
      ]
    },
    {
      "cell_type": "code",
      "execution_count": 83,
      "metadata": {
        "colab": {
          "base_uri": "https://localhost:8080/"
        },
        "id": "WAeEpjXItbqu",
        "outputId": "632d2e9a-cc29-4ed4-e814-db93b4fa7403"
      },
      "outputs": [
        {
          "data": {
            "text/plain": [
              "[('loving', 0.8166717886924744),\n",
              " ('germany', 0.8000673055648804),\n",
              " ('hows', 0.7979172468185425),\n",
              " ('x', 0.7811189293861389),\n",
              " ('enjoying', 0.777660608291626),\n",
              " ('lady', 0.772476315498352),\n",
              " ('excited', 0.7675234079360962),\n",
              " ('yay', 0.7643248438835144),\n",
              " ('missing', 0.7639089822769165),\n",
              " ('sweet', 0.7527605295181274)]"
            ]
          },
          "execution_count": 83,
          "metadata": {},
          "output_type": "execute_result"
        }
      ],
      "source": [
        "model.wv.most_similar(\"happy\")"
      ]
    },
    {
      "cell_type": "code",
      "execution_count": 111,
      "metadata": {
        "id": "zx-H6j7Q1-QP"
      },
      "outputs": [],
      "source": [
        "# fit a 2d PCA model to the vectors\n",
        "vectors = model.wv[model.wv.key_to_index]\n",
        "wordsArray = list(model.wv.key_to_index)\n",
        "pca = PCA(n_components=2)\n",
        "PCA_result = pca.fit_transform(vectors)\n",
        "\n",
        "# prepare a dataframe\n",
        "words = pd.DataFrame(wordsArray)\n",
        "PCA_result = pd.DataFrame(PCA_result)\n",
        "PCA_result['x_values'] =PCA_result.iloc[0:, 0]\n",
        "PCA_result['y_values'] =PCA_result.iloc[0:, 1]\n",
        "PCA_final = pd.merge(words, PCA_result, left_index=True, right_index=True)\n",
        "PCA_final['word'] =PCA_final.iloc[0:, 0]\n",
        "PCA_data_labeled =PCA_final[['word','x_values','y_values']]"
      ]
    },
    {
      "cell_type": "code",
      "execution_count": 118,
      "metadata": {
        "colab": {
          "base_uri": "https://localhost:8080/",
          "height": 448
        },
        "id": "V-ExaaFf-EVD",
        "outputId": "4eac6b7f-e2a4-4ab7-f467-3400799beb9c"
      },
      "outputs": [
        {
          "data": {
            "text/plain": [
              "<matplotlib.collections.PathCollection at 0x7ca437ab2530>"
            ]
          },
          "execution_count": 118,
          "metadata": {},
          "output_type": "execute_result"
        },
        {
          "data": {
            "image/png": "[encoded data removed]",
            "text/plain": [
              "<Figure size 640x480 with 1 Axes>"
            ]
          },
          "metadata": {},
          "output_type": "display_data"
        }
      ],
      "source": [
        "fig = plt.figure()\n",
        "#zoom out of the graph to see the words more clearly\n",
        "fig.set_figheight(50)\n",
        "fig.set_figwidth(50)\n",
        "ax = fig.add_subplot(1, 1, 1)\n",
        "#label the points with their respective words\n",
        "for word, x, y in zip(PCA_data_labeled['word'], PCA_data_labeled['x_values'], PCA_data_labeled['y_values']):\n",
        "    ax.annotate(word, (x, y))\n",
        "\n",
        "ax.scatter(PCA_data_labeled['x_values'], PCA_data_labeled['y_values'])\n",
        "\n",
        "#Run k-means and color the the points in the graph to their respective cluster\n",
        "from sklearn.cluster import KMeans\n",
        "kmeans = KMeans(n_clusters=5)\n",
        "kmeans.fit(vectors)\n",
        "y_kmeans = kmeans.predict(vectors)\n",
        "ax.scatter(vectors[:, 0], vectors[:, 1], c=y_kmeans, s=50, cmap='viridis')\n",
        "\n",
        "centers = kmeans.cluster_centers_\n",
        "ax.scatter(centers[:, 0], centers[:, 1], c='black', s=200, alpha=0.5);"
      ]
    },
    {
      "cell_type": "markdown",
      "metadata": {
        "id": "MeH2SfFK42Fh"
      },
      "source": [
        "##Run A-propri on the word vetors, to see which words are most often used together"
      ]
    },
    {
      "cell_type": "code",
      "execution_count": 14,
      "metadata": {
        "id": "zZt1R5Hu4gY_"
      },
      "outputs": [
        {
          "ename": "NameError",
          "evalue": "name 'array_distinct' is not defined",
          "output_type": "error",
          "traceback": [
            "\u001b[1;31m---------------------------------------------------------------------------\u001b[0m",
            "\u001b[1;31mNameError\u001b[0m                                 Traceback (most recent call last)",
            "\u001b[1;32mc:\\Users\\corie\\Desktop\\DataMiningProj\\DataMiningProj.ipynb Cell 23\u001b[0m line \u001b[0;36m3\n\u001b[0;32m      <a href='vscode-notebook-cell:/c%3A/Users/corie/Desktop/DataMiningProj/DataMiningProj.ipynb#X31sZmlsZQ%3D%3D?line=0'>1</a>\u001b[0m \u001b[39mfrom\u001b[39;00m \u001b[39mpyspark\u001b[39;00m\u001b[39m.\u001b[39;00m\u001b[39mml\u001b[39;00m\u001b[39m.\u001b[39;00m\u001b[39mfpm\u001b[39;00m \u001b[39mimport\u001b[39;00m FPGrowth\n\u001b[0;32m      <a href='vscode-notebook-cell:/c%3A/Users/corie/Desktop/DataMiningProj/DataMiningProj.ipynb#X31sZmlsZQ%3D%3D?line=1'>2</a>\u001b[0m \u001b[39mimport\u001b[39;00m \u001b[39mpyspark\u001b[39;00m\u001b[39m.\u001b[39;00m\u001b[39msql\u001b[39;00m\u001b[39m.\u001b[39;00m\u001b[39mfunctions\u001b[39;00m\n\u001b[1;32m----> <a href='vscode-notebook-cell:/c%3A/Users/corie/Desktop/DataMiningProj/DataMiningProj.ipynb#X31sZmlsZQ%3D%3D?line=2'>3</a>\u001b[0m apriori \u001b[39m=\u001b[39m dataset\u001b[39m.\u001b[39mwithColumn(\u001b[39m\"\u001b[39m\u001b[39mwordsWithoutDupes\u001b[39m\u001b[39m\"\u001b[39m, array_distinct(\u001b[39m\"\u001b[39m\u001b[39mfiltered\u001b[39m\u001b[39m\"\u001b[39m))\n\u001b[0;32m      <a href='vscode-notebook-cell:/c%3A/Users/corie/Desktop/DataMiningProj/DataMiningProj.ipynb#X31sZmlsZQ%3D%3D?line=3'>4</a>\u001b[0m fpGrowth \u001b[39m=\u001b[39m FPGrowth(itemsCol\u001b[39m=\u001b[39m\u001b[39m\"\u001b[39m\u001b[39mwordsWithoutDupes\u001b[39m\u001b[39m\"\u001b[39m, minSupport\u001b[39m=\u001b[39m\u001b[39m0.01\u001b[39m, minConfidence\u001b[39m=\u001b[39m\u001b[39m0.4\u001b[39m)\n\u001b[0;32m      <a href='vscode-notebook-cell:/c%3A/Users/corie/Desktop/DataMiningProj/DataMiningProj.ipynb#X31sZmlsZQ%3D%3D?line=4'>5</a>\u001b[0m model \u001b[39m=\u001b[39m fpGrowth\u001b[39m.\u001b[39mfit(apriori)\n",
            "\u001b[1;31mNameError\u001b[0m: name 'array_distinct' is not defined"
          ]
        }
      ],
      "source": [
        "from pyspark.ml.fpm import FPGrowth\n",
        "apriori = dataset.withColumn(\"wordsWithoutDupes\", array_distinct(\"filtered\"))\n",
        "fpGrowth = FPGrowth(itemsCol=\"wordsWithoutDupes\", minSupport=0.01, minConfidence=0.4)\n",
        "model = fpGrowth.fit(apriori)"
      ]
    },
    {
      "cell_type": "code",
      "execution_count": null,
      "metadata": {
        "colab": {
          "base_uri": "https://localhost:8080/"
        },
        "id": "4T-592tk8E7O",
        "outputId": "ec212ec7-398e-4dbe-96e9-e16ed2e078e4"
      },
      "outputs": [
        {
          "name": "stdout",
          "output_type": "stream",
          "text": [
            "+---------+----+\n",
            "|    items|freq|\n",
            "+---------+----+\n",
            "|   [wait]|1218|\n",
            "|   [more]|2112|\n",
            "|[more, i]|1089|\n",
            "|  [thing]|1054|\n",
            "|   [come]|1664|\n",
            "+---------+----+\n",
            "only showing top 5 rows\n",
            "\n",
            "Number of frequent itemsets: 718\n",
            "+----------+----------+-------------------+------------------+-------+\n",
            "|antecedent|consequent|         confidence|              lift|support|\n",
            "+----------+----------+-------------------+------------------+-------+\n",
            "|  [was, a]|       [i]| 0.6230337078651685|1.3956223015661677|0.01109|\n",
            "|    [here]|       [i]|0.49673469387755104| 1.112707078261617|0.01217|\n",
            "|  [me, it]|       [i]| 0.5881294964028777|1.3174353667014869|0.01308|\n",
            "|   [it, a]|       [i]|  0.572563331902104|1.2825664887372967|0.02667|\n",
            "|     [you]|       [i]| 0.4640354112873478| 1.039459278901814|0.11322|\n",
            "+----------+----------+-------------------+------------------+-------+\n",
            "only showing top 5 rows\n",
            "\n",
            "Number of association rules: 260\n"
          ]
        }
      ],
      "source": [
        "from pyspark.ml.fpm import FPGrowth\n",
        "from pyspark.sql.functions import desc\n",
        "apriori_model.freqItemsets.sort(desc(\"freq\")).show(apriori_model.freqItemsets.count())\n",
        "print(\"Number of frequent itemsets: \" + str(model.freqItemsets.count()))\n",
        "model.associationRules.show(5)\n",
        "print(\"Number of association rules: \" + str(model.associationRules.count()))"
      ]
    },
    {
      "cell_type": "markdown",
      "metadata": {
        "id": "Bc3U96_F3bvw"
      },
      "source": [
        "##Train the model to predict Sentiment on the test data"
      ]
    },
    {
      "cell_type": "code",
      "execution_count": 2,
      "metadata": {},
      "outputs": [
        {
          "ename": "NameError",
          "evalue": "name 'train' is not defined",
          "output_type": "error",
          "traceback": [
            "\u001b[1;31m---------------------------------------------------------------------------\u001b[0m",
            "\u001b[1;31mNameError\u001b[0m                                 Traceback (most recent call last)",
            "\u001b[1;32mc:\\Users\\corie\\Desktop\\DataMiningProj\\DataMiningProj.ipynb Cell 25\u001b[0m line \u001b[0;36m2\n\u001b[0;32m      <a href='vscode-notebook-cell:/c%3A/Users/corie/Desktop/DataMiningProj/DataMiningProj.ipynb#X33sZmlsZQ%3D%3D?line=0'>1</a>\u001b[0m \u001b[39m#Split training and Testing\u001b[39;00m\n\u001b[1;32m----> <a href='vscode-notebook-cell:/c%3A/Users/corie/Desktop/DataMiningProj/DataMiningProj.ipynb#X33sZmlsZQ%3D%3D?line=1'>2</a>\u001b[0m split_data\u001b[39m=\u001b[39mtrain\u001b[39m.\u001b[39mrandomSplit([\u001b[39m0.7\u001b[39m,\u001b[39m0.3\u001b[39m])\n\u001b[0;32m      <a href='vscode-notebook-cell:/c%3A/Users/corie/Desktop/DataMiningProj/DataMiningProj.ipynb#X33sZmlsZQ%3D%3D?line=2'>3</a>\u001b[0m trainSplit\u001b[39m=\u001b[39msplit_data[\u001b[39m0\u001b[39m]\n\u001b[0;32m      <a href='vscode-notebook-cell:/c%3A/Users/corie/Desktop/DataMiningProj/DataMiningProj.ipynb#X33sZmlsZQ%3D%3D?line=4'>5</a>\u001b[0m \u001b[39m#label in test renamed to true label\u001b[39;00m\n",
            "\u001b[1;31mNameError\u001b[0m: name 'train' is not defined"
          ]
        }
      ],
      "source": [
        "#Split training and Testing\n",
        "split_data=train.randomSplit([0.7,0.3])\n",
        "trainSplit=split_data[0]\n",
        "\n",
        "#label in test renamed to true label\n",
        "testSplit=split_data[1]\n",
        "\n",
        "trainSplit = pipeline.transform(trainSplit).select(\"Sentiment\", \"filtered\", \"features\")\n",
        "testSplit = pipeline.transform(testSplit).select(\"Sentiment\", \"filtered\", \"features\")\n",
        "\n",
        "#Count the number of training tweets and testing tweets\n",
        "print(\"Number of training tweets: \" + str(trainSplit.count()))\n",
        "print(\"Number of testing tweets: \" + str(testSplit.count()))\n",
        "\n",
        "trainSplit.show(5, truncate=False)\n",
        "testSplit.show(5, truncate=False)"
      ]
    },
    {
      "cell_type": "code",
      "execution_count": 35,
      "metadata": {
        "colab": {
          "base_uri": "https://localhost:8080/",
          "height": 391
        },
        "id": "iYQlD7O6QtTJ",
        "outputId": "d8ef3453-42d4-4fdb-a728-c3610bff0266"
      },
      "outputs": [
        {
          "name": "stdout",
          "output_type": "stream",
          "text": [
            "Done\n",
            "root\n",
            " |-- Sentiment: integer (nullable = true)\n",
            " |-- filtered: array (nullable = true)\n",
            " |    |-- element: string (containsNull = true)\n",
            " |-- features: vector (nullable = true)\n",
            " |-- rawPrediction: vector (nullable = true)\n",
            " |-- probability: vector (nullable = true)\n",
            " |-- prediction: double (nullable = false)\n",
            "\n"
          ]
        }
      ],
      "source": [
        "lr = LogisticRegression(labelCol = 'Sentiment', featuresCol='features', maxIter=50, regParam=0.01)\n",
        "lrModel = lr.fit(trainSplit)\n",
        "print(\"Done\")\n",
        "\n",
        "raw_prediction = lrModel.transform(testSplit)\n",
        "raw_prediction.printSchema()"
      ]
    },
    {
      "cell_type": "code",
      "execution_count": 36,
      "metadata": {},
      "outputs": [
        {
          "name": "stdout",
          "output_type": "stream",
          "text": [
            "+------------------------------------+----------+---------+\n",
            "|filtered                            |prediction|Sentiment|\n",
            "+------------------------------------+----------+---------+\n",
            "|[omg, already, 7, 30, o]            |0.0       |1        |\n",
            "|[think, mi, bf, cheating, t_t]      |0.0       |0        |\n",
            "|[juuuuuuuuuuuuuuuuussssst, chillin] |1.0       |1        |\n",
            "|[sunny, work, tomorrow, tv, tonight]|0.0       |0        |\n",
            "+------------------------------------+----------+---------+\n",
            "only showing top 4 rows\n",
            "\n"
          ]
        }
      ],
      "source": [
        "Final_prediction = raw_prediction.select(\"filtered\", \"prediction\", \"Sentiment\")\n",
        "Final_prediction.show(n=4, truncate = False)"
      ]
    },
    {
      "cell_type": "code",
      "execution_count": 1,
      "metadata": {},
      "outputs": [
        {
          "ename": "NameError",
          "evalue": "name 'Final_prediction' is not defined",
          "output_type": "error",
          "traceback": [
            "\u001b[1;31m---------------------------------------------------------------------------\u001b[0m",
            "\u001b[1;31mNameError\u001b[0m                                 Traceback (most recent call last)",
            "\u001b[1;32mc:\\Users\\corie\\Desktop\\DataMiningProj\\DataMiningProj.ipynb Cell 28\u001b[0m line \u001b[0;36m2\n\u001b[0;32m      <a href='vscode-notebook-cell:/c%3A/Users/corie/Desktop/DataMiningProj/DataMiningProj.ipynb#X36sZmlsZQ%3D%3D?line=0'>1</a>\u001b[0m \u001b[39m#Count the accuracy\u001b[39;00m\n\u001b[1;32m----> <a href='vscode-notebook-cell:/c%3A/Users/corie/Desktop/DataMiningProj/DataMiningProj.ipynb#X36sZmlsZQ%3D%3D?line=1'>2</a>\u001b[0m correctPrediction \u001b[39m=\u001b[39m Final_prediction\u001b[39m.\u001b[39mfilter(Final_prediction[\u001b[39m'\u001b[39m\u001b[39mprediction\u001b[39m\u001b[39m'\u001b[39m] \u001b[39m==\u001b[39m Final_prediction[\u001b[39m'\u001b[39m\u001b[39mSentiment\u001b[39m\u001b[39m'\u001b[39m])\u001b[39m.\u001b[39mcount()\n\u001b[0;32m      <a href='vscode-notebook-cell:/c%3A/Users/corie/Desktop/DataMiningProj/DataMiningProj.ipynb#X36sZmlsZQ%3D%3D?line=2'>3</a>\u001b[0m \u001b[39mprint\u001b[39m(\u001b[39m\"\u001b[39m\u001b[39mNumber of correct predictions: \u001b[39m\u001b[39m\"\u001b[39m \u001b[39m+\u001b[39m \u001b[39mstr\u001b[39m(correctPrediction))\n\u001b[0;32m      <a href='vscode-notebook-cell:/c%3A/Users/corie/Desktop/DataMiningProj/DataMiningProj.ipynb#X36sZmlsZQ%3D%3D?line=3'>4</a>\u001b[0m Accuracy \u001b[39m=\u001b[39m correctPrediction\u001b[39m/\u001b[39mtestSplit\u001b[39m.\u001b[39mcount()\u001b[39m*\u001b[39m\u001b[39m100\u001b[39m\n",
            "\u001b[1;31mNameError\u001b[0m: name 'Final_prediction' is not defined"
          ]
        }
      ],
      "source": [
        "#Count the accuracy\n",
        "correctPrediction = Final_prediction.filter(Final_prediction['prediction'] == Final_prediction['Sentiment']).count()\n",
        "print(\"Number of correct predictions: \" + str(correctPrediction))\n",
        "Accuracy = correctPrediction/testSplit.count()*100\n",
        "print(\"Accuracy: \" + str(Accuracy))\n"
      ]
    }
  ],
  "metadata": {
    "colab": {
      "authorship_tag": "ABX9TyNhZA6twmZwgfmbME3qid9L",
      "include_colab_link": true,
      "provenance": [],
      "toc_visible": true
    },
    "kernelspec": {
      "display_name": "Python 3",
      "name": "python3"
    },
    "language_info": {
      "codemirror_mode": {
        "name": "ipython",
        "version": 3
      },
      "file_extension": ".py",
      "mimetype": "text/x-python",
      "name": "python",
      "nbconvert_exporter": "python",
      "pygments_lexer": "ipython3",
      "version": "3.11.4"
    }
  },
  "nbformat": 4,
  "nbformat_minor": 0
}
